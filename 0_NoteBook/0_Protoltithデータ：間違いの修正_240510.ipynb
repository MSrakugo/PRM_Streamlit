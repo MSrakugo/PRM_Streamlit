{
 "cells": [
  {
   "cell_type": "code",
   "execution_count": null,
   "id": "5c0f5428",
   "metadata": {},
   "outputs": [],
   "source": [
    "#plot&calc\n",
    "import pandas as pd\n",
    "import numpy as np\n",
    "import matplotlib.pyplot as plt\n",
    "import seaborn as sns\n",
    "import plotly\n",
    "import plotly.express as px\n",
    "import plotly.graph_objects as go\n",
    "import matplotlib.ticker as ticker\n",
    "import umap\n",
    "\n",
    "#ファイル管理系\n",
    "import os\n",
    "import glob\n",
    "\n",
    "# Date time\n",
    "import datetime\n",
    "\n",
    "import scipy\n",
    "import scipy.optimize as optimize\n",
    "import sklearn.metrics as metrics\n",
    "from sklearn.metrics import r2_score\n",
    "from sklearn.preprocessing import StandardScaler, MinMaxScaler"
   ]
  },
  {
   "cell_type": "markdown",
   "id": "792ce5ac",
   "metadata": {},
   "source": [
    "# Check data"
   ]
  },
  {
   "cell_type": "code",
   "execution_count": null,
   "id": "01787313",
   "metadata": {},
   "outputs": [],
   "source": [
    "path_all_train_data_folder = \"../0_Model_Construction_Protolith_Composition_Data/PRM_For_Metabasalt/\"\n",
    "\n",
    "# Compile data path\n",
    "data_list = glob.glob(path_all_train_data_folder+\"240509_Basalt_Compile/*.xlsx\")\n",
    "print(data_list)  "
   ]
  },
  {
   "cell_type": "code",
   "execution_count": null,
   "id": "462e73c6",
   "metadata": {},
   "outputs": [],
   "source": [
    "data_compile = None\n",
    "for data_path in data_list: # データの結合\n",
    "    data_concat = pd.read_excel(data_path, header=7)\n",
    "    if data_compile is None:\n",
    "        data_compile = data_concat\n",
    "    else:\n",
    "        data_compile = pd.concat([data_concat, data_compile], axis=0)\n",
    "data_compile = data_compile[data_compile[\"ANALYZED MATERIAL\"]==\"WHOLE ROCK\"]\n",
    "data_compile=data_compile.reset_index(drop=True)\n",
    "data_compile.to_excel(path_all_train_data_folder+\"240509_Basalt_Compile/Compile/Compiled.xlsx\")"
   ]
  },
  {
   "cell_type": "code",
   "execution_count": null,
   "id": "f747b90a",
   "metadata": {},
   "outputs": [],
   "source": [
    "#data_compile_ = data_compile.copy()\n",
    "#data_compile = data_compile_.copy()\n",
    "# data_compile = pd.read_excel(path_all_train_data_folder+\"240509_Basalt_Compile/Compiled.xlsx\")"
   ]
  },
  {
   "cell_type": "code",
   "execution_count": null,
   "id": "7935fef2",
   "metadata": {},
   "outputs": [],
   "source": [
    "# CHECK rock type\n",
    "data_compile[\"ROCK TYPE\"].value_counts()"
   ]
  },
  {
   "cell_type": "code",
   "execution_count": null,
   "id": "4d59476f",
   "metadata": {},
   "outputs": [],
   "source": [
    "# Select columns that are of type float64\n",
    "data_float = data_compile.columns[data_compile.dtypes == \"float64\"].copy()\n",
    "\n",
    "# Create a DataFrame with only the float columns\n",
    "float_data_compile = data_compile[data_float].copy()"
   ]
  },
  {
   "cell_type": "code",
   "execution_count": null,
   "id": "c0890754",
   "metadata": {
    "scrolled": true
   },
   "outputs": [],
   "source": [
    "drop_index=[]\n",
    "################################################################################## Check and Drop Data\n",
    "# Modified Section\n",
    "# TiとAlを入れ間違えてる試料\n",
    "Ti_Al_miss=data_compile[(float_data_compile[\"AL2O3\"]<5)&(float_data_compile[\"TIO2\"]>1)].copy()\n",
    "iloc_values = [data_compile.index.get_loc(idx) for idx in Ti_Al_miss.index]\n",
    "data_compile.loc[iloc_values, \"TIO2\"]=Ti_Al_miss[\"AL2O3\"].values\n",
    "data_compile.loc[iloc_values, \"AL2O3\"]=Ti_Al_miss[\"TIO2\"].values\n",
    "\n",
    "# MnとMgを入れ間違えてる試料\n",
    "Mg_Mn_Miss=data_compile[(float_data_compile[\"AL2O3\"]<5)&(float_data_compile[\"TIO2\"]>1)&(float_data_compile[\"MGO\"]<5)&(data_compile[\"REFERENCES\"]==\"TEASDALE, 2004\")].copy()\n",
    "iloc_values = [data_compile.index.get_loc(idx) for idx in Mg_Mn_Miss.index]\n",
    "data_compile.loc[iloc_values, \"MGO\"]=Mg_Mn_Miss[\"MNO\"].values\n",
    "data_compile.loc[iloc_values, \"MNO\"]=Mg_Mn_Miss[\"MGO\"].values\n",
    "\n",
    "# MnとMgとCaを入れ間違えてる試料 paper\n",
    "Mg_Mn_Ca_Miss = data_compile[(data_compile[\"REFERENCES\"]==\"LYONS, 2007\")].copy()\n",
    "iloc_values = [data_compile.index.get_loc(idx) for idx in Mg_Mn_Ca_Miss.index]\n",
    "data_compile.loc[iloc_values, \"MGO\"]=Mg_Mn_Ca_Miss.loc[iloc_values, \"CAO\"]\n",
    "data_compile.loc[iloc_values, \"MNO\"]=Mg_Mn_Ca_Miss[\"MGO\"].values\n",
    "data_compile.loc[iloc_values, \"CAO\"]=Mg_Mn_Ca_Miss[\"MNO\"].values\n",
    "\n",
    "# Ti not correct value\n",
    "Ti_miss=data_compile[(data_compile[\"TIO2\"]>9)].copy()\n",
    "drop_index = list(drop_index)+list(Ti_miss.index.values)\n",
    "\n",
    "# P obvious anomalous sample LE ROEX, 2010; WATSON, 2016; CASEY, 1997\n",
    "P_miss=data_compile[(data_compile[\"P2O5\"]>3)].copy()\n",
    "drop_index = list(drop_index)+list(P_miss.index.values)\n",
    "\n",
    "# Yb obvious anomalous sample 358→3.58\n",
    "Yb_miss=data_compile[(data_compile[\"YB\"]>100)].copy()\n",
    "iloc_values = [data_compile.index.get_loc(idx) for idx in Yb_miss.index]\n",
    "data_compile.loc[iloc_values, \"YB\"]=3.58\n",
    "\n",
    "# PB obvious anomalous sample → reject reference→XRF only and many blank\n",
    "Pb_miss=data_compile[(data_compile[\"PB\"]>100)].copy()\n",
    "drop_index = list(drop_index)+list(Pb_miss.index.values)\n",
    "\n",
    "#FOURMENTRAUX, 2012→Anomalous in scatter plot in many element...\n",
    "FOURMENTRAUX_anomaly=data_compile[(data_compile[\"REFERENCES\"]==\"FOURMENTRAUX, 2012\")]\n",
    "drop_index = list(drop_index)+list(FOURMENTRAUX_anomaly.index.values)\n",
    "\n",
    "# Nb anomaly →CHAFFEY, 1989：Many data and cannot access paper, so accept.\n",
    "\n",
    "# Mn anomaly →Most data do not have trace data, so reject for saving time\n",
    "Yb_miss=data_compile[(data_compile[\"MNO\"]>2.5)].copy()\n",
    "iloc_values = [data_compile.index.get_loc(idx) for idx in Yb_miss.index]\n",
    "data_compile.loc[iloc_values, \"YB\"]=3.58\n",
    "\n",
    "# Li anomaly → mainly LONG, 2019 Anomalous MORB : accept\n",
    "\n",
    "#  K2O: Most sample have large LOI (i.e., ~5-~10wt%) : Bigger than 3.5, reject; checked in 3, 3.5, 4\n",
    "K2O_miss=data_compile[(data_compile[\"K2O\"]>3.5)].copy()\n",
    "drop_index = list(drop_index)+list(K2O_miss.index.values)\n",
    "\n",
    "#  Cs, Vでも出てきたNGUYEN 2017のみAnomalous→Reject\n",
    "Cs_miss=data_compile[(data_compile[\"CS\"]>100)].copy()\n",
    "drop_index = list(drop_index)+list(Cs_miss.index.values)\n",
    "\n",
    "#  Ca Anomalous→Reject\n",
    "Ca_miss=data_compile[(data_compile[\"CAO\"]>100)].copy()\n",
    "drop_index = list(drop_index)+list(Ca_miss.index.values)\n",
    "\n",
    "# Na2O Anomalous→Reject\n",
    "Na_miss=data_compile[(data_compile[\"NA2O\"]>7)].copy()\n",
    "drop_index = list(drop_index)+list(Na_miss.index.values)\n",
    "\n",
    "# MNO Anomalous→Reject: containing sedimentary and most data analysed in XRF\n",
    "Mn_miss=data_compile[(data_compile[\"MNO\"]>2)].copy()\n",
    "drop_index = list(drop_index)+list(Mn_miss.index.values)\n",
    "################################################################################## Check and Drop Data\n",
    "# まとめてdrop\n",
    "data_compile = data_compile.drop(drop_index)\n",
    "\n",
    "# data_compile[\"ROCK TYPE\"] == \"IGNEOUS:PLUTONIC:ULTRAMAFIC\" # → Obviously anomaly in MGO →save in different file\n",
    "data_compile_ULTRAMAFIC = data_compile[data_compile[\"ROCK TYPE\"] == \"IGNEOUS:PLUTONIC:ULTRAMAFIC\"]\n",
    "\n",
    "# UItramaficを除いたBasalticなデータ\n",
    "data_compile_Basaltic = data_compile.drop(data_compile_ULTRAMAFIC.index)"
   ]
  },
  {
   "cell_type": "code",
   "execution_count": null,
   "id": "4cb8e5d6",
   "metadata": {},
   "outputs": [],
   "source": [
    "################################################################ USE FOR CHECKING DATA データの確認に使用\n",
    "#P_miss=data_compile[(data_compile[\"MNO\"]>2.5)].copy()\n",
    "#P_miss.to_excel(path_all_train_data_folder+\"Data Visualization/Check.xlsx\")\n",
    "################################################################ USE FOR CHECKING DATA データの確認に使用"
   ]
  },
  {
   "cell_type": "code",
   "execution_count": null,
   "id": "33f1b6ce",
   "metadata": {
    "scrolled": true
   },
   "outputs": [],
   "source": [
    "# 可視化\n",
    "for elem in float_data_compile.columns:\n",
    "    elem_list = [\"SIO2\", elem]\n",
    "    data_use = data_compile[elem_list].dropna()\n",
    "    sns.scatterplot(x=elem_list[0], y=elem_list[1], data=data_compile, hue=\"TECTONIC SETTING\")\n",
    "    plt.legend(bbox_to_anchor=(1.05, 1), loc='upper left', borderaxespad=0, fontsize=18)\n",
    "    plt.savefig(path_all_train_data_folder+\"/Data Visualization/Preprocessing_Before/\"+elem+\".png\", bbox_inches=\"tight\")\n",
    "    plt.show()"
   ]
  },
  {
   "cell_type": "code",
   "execution_count": null,
   "id": "c7d3f93e",
   "metadata": {},
   "outputs": [],
   "source": [
    "# 元素名の修正\n",
    "############# prep\n",
    "n=0\n",
    "Major_list = [\"SiO2\", \"Al2O3\", \"TiO2\", \"Fe2O3\", \"FeO\", \"MgO\", \"CaO\", \"K2O\", \"MnO\", \"P2O5\", \"Na2O\", \"LOI\"]\n",
    "Major_list_higher = [\"SIO2\", \"AL2O3\", \"TIO2\", \"FE2O3\", \"FEO\",\"MGO\", \"CAO\", \"K2O\", \"MNO\", \"P2O5\", \"NA2O\", \"LOI\"]\n",
    "\n",
    "############# prep\n",
    "\n",
    "col_list_lower=[]\n",
    "for col in data_compile_Basaltic.columns: # data_compile_Basaltic.columns[:18]は大きいまま\n",
    "    if n<18: # 位置情報等の情報はそのまま\n",
    "        pass\n",
    "    elif col in Major_list_higher: # Major elementは変換\n",
    "        #何番目のmajor elemかを確認\n",
    "        index_num = Major_list_higher.index(col) \n",
    "        #変換先のmajor elem listから取得\n",
    "        col = Major_list[index_num]\n",
    "    else:\n",
    "        #その他は2番目を小さくする\n",
    "        col = col[:1] + col[1:].lower()\n",
    "    n=n+1\n",
    "    col_list_lower.append(col)\n",
    "col_list_lower"
   ]
  },
  {
   "cell_type": "code",
   "execution_count": null,
   "id": "a89370f9",
   "metadata": {},
   "outputs": [],
   "source": [
    "# 出力\n",
    "data_compile_Basaltic.columns = col_list_lower\n",
    "data_compile_Basaltic.to_excel(path_all_train_data_folder+\"240509_Basalt_Compile/Compile/PetDB_Basaltic_\"+str(datetime.date.today())+\".xlsx\")\n",
    "\n",
    "data_compile_ULTRAMAFIC.columns = col_list_lower\n",
    "data_compile_ULTRAMAFIC.to_excel(path_all_train_data_folder+\"240509_Basalt_Compile/Compile/PetDB_ULTRAMAFIC_\"+str(datetime.date.today())+\".xlsx\")"
   ]
  },
  {
   "cell_type": "code",
   "execution_count": null,
   "id": "ef685d56",
   "metadata": {},
   "outputs": [],
   "source": []
  },
  {
   "cell_type": "markdown",
   "id": "ac05d5c6",
   "metadata": {},
   "source": [
    "# 簡易可視化"
   ]
  },
  {
   "cell_type": "code",
   "execution_count": null,
   "id": "5370ff6c",
   "metadata": {},
   "outputs": [],
   "source": [
    "########################################################## UMAP Tectonic Setting\n",
    "#UMAP_data_RAW = pd.read_excel(path_all_train_data, index_col=0, header=7)\n",
    "UMAP_data_RAW = data_compile_Basaltic.copy()\n",
    "#data_train_setting = pd.read_excel(path_all_train_data+\"/Protolith/Primitive_not_applied.xlsx\")\n",
    "\n",
    "immobile_list = [\"ZR\", \"TH\", \"TI\", \"NB\"]\n",
    "\n",
    "#使うデータを抽出\n",
    "UMAP_data = UMAP_data_RAW[immobile_list].copy().dropna()#.apply(lambda x: np.log10(x)) # 使用データ log変換\n",
    "\n",
    "############################################## UMAP 処理 前処理→UMAP→Compile\n",
    "#####前処理 ->標準化　平均0　分散1\n",
    "SDS = StandardScaler()\n",
    "SDS.fit(UMAP_data)\n",
    "UMAP_data_SD = SDS.transform(UMAP_data)\n",
    "\n",
    "##### reducer\n",
    "reducer = umap.UMAP(random_state=77)\n",
    "reducer.fit(UMAP_data_SD)\n",
    "#Protolith、SAの両方にフィット\n",
    "#reducer.fit(np.concatenate([Protolith_data_SD, SA_protolith_SD]))\n",
    "UMAP_data_umap = reducer.transform(UMAP_data_SD)\n",
    "\n",
    "#####compile\n",
    "UMAP_data_umap = pd.DataFrame(UMAP_data_umap, index = UMAP_data.index)\n",
    "############################################## UMAP 処理 前処理→UMAP→Compile\n",
    "####### read color value\n",
    "fig, ax = plt.subplots(figsize=(10, 5))        \n",
    "sns.scatterplot(data=UMAP_data_umap, x=0, y=1, palette=\"Dark2\", alpha=1, ax=ax)\n",
    "#plt.savefig(figure_folder_UMAP+'/umap_tectonic_setting.pdf', bbox_inches='tight')\n",
    "plt.show()\n",
    "########################################################## UMAP Tectonic Setting"
   ]
  }
 ],
 "metadata": {
  "kernelspec": {
   "display_name": "Python 3 (ipykernel)",
   "language": "python",
   "name": "python3"
  },
  "language_info": {
   "codemirror_mode": {
    "name": "ipython",
    "version": 3
   },
   "file_extension": ".py",
   "mimetype": "text/x-python",
   "name": "python",
   "nbconvert_exporter": "python",
   "pygments_lexer": "ipython3",
   "version": "3.11.12"
  }
 },
 "nbformat": 4,
 "nbformat_minor": 5
}
